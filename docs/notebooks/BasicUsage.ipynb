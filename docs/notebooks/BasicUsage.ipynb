{
 "cells": [
  {
   "cell_type": "markdown",
   "metadata": {},
   "source": [
    "# Basic Usage\n",
    "\n",
    "In this notebook, we will show some typical use cases of the API  First, we import the necessary libraries."
   ]
  },
  {
   "cell_type": "code",
   "execution_count": null,
   "metadata": {},
   "outputs": [],
   "source": [
    "import numpy as np\n",
    "import matplotlib.pyplot as plt\n",
    "import cechmate as cm\n",
    "from persim import plot_diagrams\n",
    "import tadasets"
   ]
  },
  {
   "cell_type": "markdown",
   "metadata": {},
   "source": [
    "## Rips Filtrations"
   ]
  },
  {
   "cell_type": "markdown",
   "metadata": {},
   "source": [
    "First, we show how to do a rips filtration (NOTE: The [ripser.py](https://github.com/scikit-tda/ripser.py) library is strongly recommended in this case, so this is mainly to show syntax)"
   ]
  },
  {
   "cell_type": "code",
   "execution_count": 2,
   "metadata": {},
   "outputs": [],
   "source": [
    "# Initialize a noisy circle\n",
    "X = tadasets.dsphere(n=100, d=1, r=1, noise=0.2)"
   ]
  },
  {
   "cell_type": "code",
   "execution_count": 3,
   "metadata": {},
   "outputs": [
    {
     "name": "stdout",
     "output_type": "stream",
     "text": [
      "Constructing boundary matrix...\n",
      "Finished constructing boundary matrix (Elapsed Time 2.44)\n",
      "Computing persistence pairs...\n",
      "Finished computing persistence pairs (Elapsed Time 1.74)\n"
     ]
    }
   ],
   "source": [
    "# Instantiate and build a rips filtration\n",
    "rips = cm.Rips(max_dim=1) #Go up to 1D homology\n",
    "rips.build(X)\n",
    "dgmsrips = rips.diagrams()"
   ]
  },
  {
   "cell_type": "code",
   "execution_count": 4,
   "metadata": {},
   "outputs": [
    {
     "data": {
      "image/png": "[encoded data removed]",
      "text/plain": [
       "<Figure size 432x288 with 2 Axes>"
      ]
     },
     "metadata": {
      "needs_background": "light"
     },
     "output_type": "display_data"
    }
   ],
   "source": [
    "plt.subplot(121)\n",
    "plt.scatter(X[:, 0], X[:, 1])\n",
    "plt.axis('square')\n",
    "plt.title(\"Point Cloud\")\n",
    "plt.subplot(122)\n",
    "plot_diagrams(dgmsrips)\n",
    "plt.title(\"Rips Persistence Diagrams\")\n",
    "plt.tight_layout()\n",
    "plt.show()"
   ]
  },
  {
   "cell_type": "markdown",
   "metadata": {},
   "source": [
    "## Cech Filtrations"
   ]
  },
  {
   "cell_type": "markdown",
   "metadata": {},
   "source": [
    "Let's try computing Cech filtrations."
   ]
  },
  {
   "cell_type": "code",
   "execution_count": null,
   "metadata": {},
   "outputs": [],
   "source": [
    "cech = cm.Cech(max_dim=1) #Go up to 1D homology\n",
    "cech.build(X)\n",
    "dgmscech = cech.diagrams() * 2"
   ]
  },
  {
   "cell_type": "code",
   "execution_count": null,
   "metadata": {},
   "outputs": [],
   "source": [
    "plot_diagrams(dgmsrips + dgmscech, labels = ['$H_0$ Rips', '$H_1$ Rips', '$H_0$ Cech', '$H_1$ Cech'])\n",
    "plt.show()"
   ]
  },
  {
   "cell_type": "markdown",
   "metadata": {},
   "source": [
    "## Alpha Filtrations"
   ]
  },
  {
   "cell_type": "markdown",
   "metadata": {},
   "source": [
    "Now we will perform an alpha filtration on the exact same point cloud."
   ]
  },
  {
   "cell_type": "code",
   "execution_count": null,
   "metadata": {},
   "outputs": [],
   "source": [
    "alpha = cm.Alpha()\n",
    "filtration = alpha.build(2*X) # Alpha goes by radius instead of diameter\n",
    "dgmsalpha = alpha.diagrams(filtration)"
   ]
  },
  {
   "cell_type": "code",
   "execution_count": null,
   "metadata": {},
   "outputs": [],
   "source": [
    "plot_diagrams(dgmsrips + dgmsalpha, labels = ['$H_0$ Rips', '$H_1$ Rips', '$H_0$ Alpha', '$H_1$ Alpha'])\n",
    "plt.show()"
   ]
  },
  {
   "cell_type": "markdown",
   "metadata": {},
   "source": [
    "Note that the alpha filtration is substantially faster than the Rips filtration, and it is also more geometrically accurate.  In rips, we add a triangle the moment its edges are added, but growing balls around their vertices do not necessarily cover the triangle at that point, as they are in the Cech filtration.  Alpha is the intersection of Cech balls with Voronoi regions, so it is a strict subset of Cech.  Hence, it takes a larger scale to add triangles, so the classes die slightly later.\n",
    "\n",
    "Now let's try an example with a 400 points sampled from a 4-sphere in 5 dimensions."
   ]
  },
  {
   "cell_type": "code",
   "execution_count": null,
   "metadata": {},
   "outputs": [],
   "source": [
    "X = tadasets.dsphere(n=400, r=1, d=4)\n",
    "\n",
    "alpha = cm.Alpha()\n",
    "filtration = alpha.build(X)\n",
    "dgms = alpha.diagrams(filtration)\n",
    "plot_diagrams(dgms)\n",
    "plt.show()"
   ]
  },
  {
   "cell_type": "markdown",
   "metadata": {},
   "source": [
    "As expected, the only nontrivial homology is in $H_4$.  \n",
    "\n",
    "Normally computing $H_4$ with that number of points would grind Rips to a halt, but it runs in a reasonable amount of time with Alpha. The bottleneck with Alpha is constructing the filtration and computing many circumcenters. Note that computing the persistence pairs takes even less time than H1 for Rips with only 100 points shown above."
   ]
  },
  {
   "cell_type": "markdown",
   "metadata": {},
   "source": [
    "## Custom filtration\n",
    "\n",
    "If you have a point cloud and a set of simplices with times at which they are added, you can compute the persistence diagrams associated to the custom filtration you've defined. For instance, assume we want to compute a filtration where 4 vertices enter at time 0 and the edges and triangles are added in the pattern below (note how the triangles are not added the moment all of their edges are added, unlike Rips):\n",
    "\n",
    "<img src = \"CustomExample.svg\">\n",
    "\n",
    "Then we can execute the following code:"
   ]
  },
  {
   "cell_type": "code",
   "execution_count": null,
   "metadata": {},
   "outputs": [],
   "source": [
    "filtration = [([0], 0), \n",
    "            ([1], 0), \n",
    "            ([2], 0), \n",
    "            ([3], 0), \n",
    "            ([0, 1], 1),\n",
    "            ([0, 2], 1),\n",
    "            ([1, 2], 2),\n",
    "            ([0, 1, 2], 4),\n",
    "            ([0, 3], 2),\n",
    "            ([2, 3], 3),\n",
    "            ([0, 2, 3], 6)]\n",
    "#Compute persistence diagrams\n",
    "dgms = cm.phat_diagrams(filtration, show_inf = True)\n",
    "print(\"H0:\\n\", dgms[0])\n",
    "print(\"H1:\\n\", dgms[1])"
   ]
  },
  {
   "cell_type": "code",
   "execution_count": null,
   "metadata": {},
   "outputs": [],
   "source": []
  }
 ],
 "metadata": {
  "kernelspec": {
   "display_name": "Python 3",
   "language": "python",
   "name": "python3"
  },
  "language_info": {
   "codemirror_mode": {
    "name": "ipython",
    "version": 3
   },
   "file_extension": ".py",
   "mimetype": "text/x-python",
   "name": "python",
   "nbconvert_exporter": "python",
   "pygments_lexer": "ipython3",
   "version": "3.7.1"
  }
 },
 "nbformat": 4,
 "nbformat_minor": 2
}
